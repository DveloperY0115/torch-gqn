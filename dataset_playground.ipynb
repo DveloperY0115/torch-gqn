{
 "metadata": {
  "language_info": {
   "codemirror_mode": {
    "name": "ipython",
    "version": 3
   },
   "file_extension": ".py",
   "mimetype": "text/x-python",
   "name": "python",
   "nbconvert_exporter": "python",
   "pygments_lexer": "ipython3",
   "version": "3.7.10"
  },
  "orig_nbformat": 2,
  "kernelspec": {
   "name": "torch-gqn-macos",
   "language": "python",
   "display_name": "Python(torch-gqn-macos)"
  },
  "metadata": {
   "interpreter": {
    "hash": "b2901017a8fe17ad9472b813eaf407ebf00c079230a50cfb634b4dd3a5c73df8"
   }
  }
 },
 "nbformat": 4,
 "nbformat_minor": 2,
 "cells": [
  {
   "cell_type": "code",
   "execution_count": 1,
   "metadata": {},
   "outputs": [
    {
     "data": {
      "text/plain": "'Notebook for inspecting GQN dataset'"
     },
     "execution_count": 1,
     "metadata": {},
     "output_type": "execute_result"
    }
   ],
   "source": [
    "\"\"\"Notebook for inspecting GQN dataset\"\"\""
   ]
  },
  {
   "cell_type": "code",
   "execution_count": 2,
   "metadata": {},
   "outputs": [],
   "source": [
    "import os\n",
    "import sys\n",
    "import unittest\n",
    "from pathlib import Path\n",
    "import tensorflow as tf\n",
    "\n",
    "# tensorflow settings\n",
    "tf.enable_eager_execution()\n",
    "os.environ['TF_CPP_MIN_LOG_LEVEL'] = '2'    # suppress warnings"
   ]
  },
  {
   "cell_type": "code",
   "execution_count": 3,
   "metadata": {},
   "outputs": [],
   "source": [
    "# constants\n",
    "BASE_DIR = '.'    # path to project root directory\n",
    "TEST_DIR = os.path.join(BASE_DIR, 'data/')\n",
    "TEST_FILENAME = os.path.join(TEST_DIR, 'rooms_ring_camera/train/', '0001-of-2160.tfrecord')    # file used for testing\n",
    "\n",
    "sys.path.append(BASE_DIR)    # append project root to import paths"
   ]
  },
  {
   "cell_type": "code",
   "execution_count": 4,
   "metadata": {},
   "outputs": [],
   "source": [
    "# import utilities for data conversion\n",
    "from utils.tfrecord_converter import *\n",
    "from utils.tfrecord_converter import _DATASETS\n",
    "\n",
    "# import tool for visualization\n",
    "from utils.visualizer import Visualizer\n",
    "\n",
    "vis = Visualizer()"
   ]
  },
  {
   "cell_type": "code",
   "execution_count": 5,
   "metadata": {
    "pycharm": {
     "name": "#%%\n"
    }
   },
   "outputs": [
    {
     "name": "stdout",
     "output_type": "stream",
     "text": [
      "torch.Size([32, 10, 64, 64, 3]) torch.Size([32, 10, 7])\n"
     ]
    }
   ],
   "source": [
    "# Test dataloader\n",
    "\n",
    "from utils.data_loader import RoomsRingCameraDataset, DataLoader\n",
    "\n",
    "dataset = RoomsRingCameraDataset('./data/rooms_ring_camera_torch/train')\n",
    "loader = DataLoader(dataset, batch_size=32, shuffle=True)\n",
    "\n",
    "f_batch, c_batch = next(iter(loader))\n",
    "\n",
    "print(f_batch.shape, c_batch.shape)"
   ]
  },
  {
   "cell_type": "code",
   "execution_count": 6,
   "outputs": [
    {
     "name": "stdout",
     "output_type": "stream",
     "text": [
      "torch.Size([5, 64, 64, 3]) torch.Size([5, 7, 1, 1])\n"
     ]
    }
   ],
   "source": [
    "from utils.data_loader import sample_from_batch\n",
    "\n",
    "x, v, x_q, v_q = sample_from_batch(f_batch, c_batch)\n",
    "\n",
    "print(x[0].shape, v[0].shape)"
   ],
   "metadata": {
    "collapsed": false,
    "pycharm": {
     "name": "#%%\n"
    }
   }
  },
  {
   "cell_type": "code",
   "execution_count": 7,
   "outputs": [],
   "source": [
    "from models.representation import TowerCls\n",
    "\n",
    "model = TowerCls()\n",
    "\n",
    "\n",
    "feat_map = model(x[0], v[0])"
   ],
   "metadata": {
    "collapsed": false,
    "pycharm": {
     "name": "#%%\n"
    }
   }
  },
  {
   "cell_type": "code",
   "execution_count": 7,
   "outputs": [],
   "source": [],
   "metadata": {
    "collapsed": false,
    "pycharm": {
     "name": "#%%\n"
    }
   }
  }
 ]
}