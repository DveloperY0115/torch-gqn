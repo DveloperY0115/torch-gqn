{
 "metadata": {
  "language_info": {
   "codemirror_mode": {
    "name": "ipython",
    "version": 3
   },
   "file_extension": ".py",
   "mimetype": "text/x-python",
   "name": "python",
   "nbconvert_exporter": "python",
   "pygments_lexer": "ipython3",
   "version": "3.7.10"
  },
  "orig_nbformat": 2,
  "kernelspec": {
   "name": "python3710jvsc74a57bd0b2901017a8fe17ad9472b813eaf407ebf00c079230a50cfb634b4dd3a5c73df8",
   "display_name": "Python 3.7.10 64-bit ('torch-gqn': conda)"
  },
  "metadata": {
   "interpreter": {
    "hash": "b2901017a8fe17ad9472b813eaf407ebf00c079230a50cfb634b4dd3a5c73df8"
   }
  }
 },
 "nbformat": 4,
 "nbformat_minor": 2,
 "cells": [
  {
   "cell_type": "code",
   "execution_count": 14,
   "metadata": {},
   "outputs": [
    {
     "output_type": "execute_result",
     "data": {
      "text/plain": [
       "'Notebook for inspecting GQN dataset'"
      ]
     },
     "metadata": {},
     "execution_count": 14
    }
   ],
   "source": [
    "\"\"\"Notebook for inspecting GQN dataset\"\"\""
   ]
  },
  {
   "cell_type": "code",
   "execution_count": 15,
   "metadata": {},
   "outputs": [],
   "source": [
    "import os\n",
    "import sys\n",
    "import unittest\n",
    "from pathlib import Path\n",
    "import tensorflow as tf\n",
    "\n",
    "# tensorflow settings\n",
    "tf.enable_eager_execution()\n",
    "os.environ['TF_CPP_MIN_LOG_LEVEL'] = '2'    # suppress warnings"
   ]
  },
  {
   "cell_type": "code",
   "execution_count": 16,
   "metadata": {},
   "outputs": [],
   "source": [
    "# constants\n",
    "BASE_DIR = '.'    # path to project root directory\n",
    "TEST_DIR = os.path.join(BASE_DIR, 'data/')\n",
    "TEST_FILENAME = os.path.join(TEST_DIR, 'rooms_ring_camera/train/', '0001-of-2160.tfrecord')    # file used for testing\n",
    "\n",
    "sys.path.append(BASE_DIR)    # append project root to import paths"
   ]
  },
  {
   "cell_type": "code",
   "execution_count": 17,
   "metadata": {},
   "outputs": [],
   "source": [
    "# import converter and required data structures\n",
    "from utils.tfrecord_converter import TFRecordConverter\n",
    "from utils.tfrecord_converter import DatasetInfo, _DATASETS\n",
    "\n",
    "# import tool for visualization\n",
    "from utils.visualizer import Visualizer"
   ]
  },
  {
   "cell_type": "code",
   "execution_count": 18,
   "metadata": {
    "tags": []
   },
   "outputs": [
    {
     "output_type": "stream",
     "name": "stdout",
     "text": [
      "(10, 64, 64, 3)\n(10, 5)\n"
     ]
    }
   ],
   "source": [
    "# load example data\n",
    "info = _DATASETS['rooms_ring_camera']\n",
    "\n",
    "raw_data = tf.python_io.tf_record_iterator(TEST_FILENAME).__next__()\n",
    "converter = TFRecordConverter(info, TEST_DIR, 'train')\n",
    "\n",
    "frames, cameras = converter.convert_raw_to_numpy(raw_data, None)\n",
    "\n",
    "print(frames.shape)\n",
    "print(cameras.shape)"
   ]
  },
  {
   "cell_type": "code",
   "execution_count": 19,
   "metadata": {},
   "outputs": [
    {
     "output_type": "error",
     "ename": "AttributeError",
     "evalue": "'Visualizer' object has no attribute 'show_img_grid'",
     "traceback": [
      "\u001b[0;31m---------------------------------------------------------------------------\u001b[0m",
      "\u001b[0;31mAttributeError\u001b[0m                            Traceback (most recent call last)",
      "\u001b[0;32m<ipython-input-19-0716eb0bf980>\u001b[0m in \u001b[0;36m<module>\u001b[0;34m\u001b[0m\n\u001b[1;32m      2\u001b[0m \u001b[0;34m\u001b[0m\u001b[0m\n\u001b[1;32m      3\u001b[0m \u001b[0;31m# visualize one of the frame data\u001b[0m\u001b[0;34m\u001b[0m\u001b[0;34m\u001b[0m\u001b[0;34m\u001b[0m\u001b[0m\n\u001b[0;32m----> 4\u001b[0;31m \u001b[0mvis\u001b[0m\u001b[0;34m.\u001b[0m\u001b[0mshow_img_grid\u001b[0m\u001b[0;34m(\u001b[0m\u001b[0mframes\u001b[0m\u001b[0;34m,\u001b[0m \u001b[0;36m5\u001b[0m\u001b[0;34m)\u001b[0m\u001b[0;34m\u001b[0m\u001b[0;34m\u001b[0m\u001b[0m\n\u001b[0m\u001b[1;32m      5\u001b[0m \u001b[0;34m\u001b[0m\u001b[0m\n\u001b[1;32m      6\u001b[0m \u001b[0;31m# print one of the camera data\u001b[0m\u001b[0;34m\u001b[0m\u001b[0;34m\u001b[0m\u001b[0;34m\u001b[0m\u001b[0m\n",
      "\u001b[0;31mAttributeError\u001b[0m: 'Visualizer' object has no attribute 'show_img_grid'"
     ]
    }
   ],
   "source": [
    "vis = Visualizer()\n",
    "\n",
    "# visualize one of the frame data\n",
    "vis.show_img_grid(frames, 5)\n",
    "\n",
    "# print one of the camera data\n",
    "print(cameras[0])"
   ]
  },
  {
   "cell_type": "code",
   "execution_count": null,
   "metadata": {},
   "outputs": [],
   "source": []
  }
 ]
}